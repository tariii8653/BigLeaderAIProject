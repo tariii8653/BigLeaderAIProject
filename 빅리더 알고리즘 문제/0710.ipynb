{
 "cells": [
  {
   "cell_type": "code",
   "execution_count": null,
   "metadata": {},
   "outputs": [],
   "source": [
    "##2839\n",
    "##상근이는 요즘 설탕공장에서 설탕을 배달하고 있다. 상근이는 지금 사탕가게에 설탕을 정확하게 N킬로그램을 배달해야 한다. 설탕공장에서 만드는 설탕은 봉지에 담겨져 있다. \n",
    "# 봉지는 3킬로그램 봉지와 5킬로그램 봉지가 있다.상근이는 귀찮기 때문에, 최대한 적은 봉지를 들고 가려고 한다. \n",
    "# 예를 들어, 18킬로그램 설탕을 배달해야 할 때, 3킬로그램 봉지 6개를 가져가도 되지만, 5킬로그램 3개와 3킬로그램 1개를 배달하면, 더 적은 개수의 봉지를 배달할 수 있다.\n",
    "#상근이가 설탕을 정확하게 N킬로그램 배달해야 할 때, 봉지 몇 개를 가져가면 되는지 그 수를 구하는 프로그램을 작성하시오.\n",
    "\n",
    "##첫째 줄에 N이 주어진다. (3 ≤ N ≤ 5000)\n",
    "\n",
    "##5로 나누어 떨어진 경우 나누어 계산\n",
    "##5로 나누어 떨어지지 않는 경우 3을 빼고 1을 계산\n",
    "## 모두 해당 하지 않은채 wheile문 종료될 경우 -1출력\n",
    "\n",
    "N=int(input())\n",
    "Sugar=0\n",
    "\n",
    "while N>0:\n",
    "    if (N%5==0):\n",
    "        Sugar+=N//5\n",
    "        break\n",
    "    elif (N<3):\n",
    "        Sugar=-1\n",
    "        break\n",
    "    N-=3\n",
    "    Sugar+=1\n",
    "    \n",
    "print(Sugar)    \n",
    "       "
   ]
  },
  {
   "cell_type": "code",
   "execution_count": null,
   "metadata": {},
   "outputs": [],
   "source": []
  }
 ],
 "metadata": {
  "language_info": {
   "name": "python"
  },
  "orig_nbformat": 4
 },
 "nbformat": 4,
 "nbformat_minor": 2
}
