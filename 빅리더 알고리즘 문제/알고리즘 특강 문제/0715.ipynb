{
 "cells": [
  {
   "cell_type": "code",
   "execution_count": 3,
   "metadata": {},
   "outputs": [
    {
     "name": "stdout",
     "output_type": "stream",
     "text": [
      "4\n"
     ]
    }
   ],
   "source": [
    "## 설탕배달\n",
    "\n",
    "N=int(input())\n",
    "\n",
    "\n",
    "for five in range(N//5*5,-1,-5):\n",
    "    ## N// 5=> 최대로 5kg을 사용 할 수 있는 갯수(봉지의 갯수)\n",
    "    ## N//5*5 => 5kg 봉지로 사용한 무게\n",
    "    ## 20-> 15-> 10-> 5\n",
    "    left=N-five\n",
    "    if left %3==0:\n",
    "        answer=five //5+left//3\n",
    "        break\n",
    "print(answer)\n"
   ]
  },
  {
   "cell_type": "code",
   "execution_count": 9,
   "metadata": {},
   "outputs": [
    {
     "ename": "ValueError",
     "evalue": "invalid literal for int() with base 10: ''",
     "output_type": "error",
     "traceback": [
      "\u001b[1;31m---------------------------------------------------------------------------\u001b[0m",
      "\u001b[1;31mValueError\u001b[0m                                Traceback (most recent call last)",
      "Cell \u001b[1;32mIn[9], line 4\u001b[0m\n\u001b[0;32m      1\u001b[0m \u001b[39m##블랙잭\u001b[39;00m\n\u001b[0;32m      3\u001b[0m N,M\u001b[39m=\u001b[39m\u001b[39mmap\u001b[39m(\u001b[39mint\u001b[39m,\u001b[39minput\u001b[39m()\u001b[39m.\u001b[39msplit(\u001b[39m'\u001b[39m\u001b[39m \u001b[39m\u001b[39m'\u001b[39m))\n\u001b[1;32m----> 4\u001b[0m card_list\u001b[39m=\u001b[39m\u001b[39mlist\u001b[39;49m(\u001b[39mmap\u001b[39;49m(\u001b[39mint\u001b[39;49m,\u001b[39minput\u001b[39;49m()\u001b[39m.\u001b[39;49msplit(\u001b[39m'\u001b[39;49m\u001b[39m \u001b[39;49m\u001b[39m'\u001b[39;49m)))\n\u001b[0;32m      5\u001b[0m answer\u001b[39m=\u001b[39m\u001b[39m0\u001b[39m\n\u001b[0;32m      7\u001b[0m \u001b[39mfor\u001b[39;00m first \u001b[39min\u001b[39;00m \u001b[39mrange\u001b[39m(\u001b[39m0\u001b[39m,N,\u001b[39m1\u001b[39m):\n",
      "\u001b[1;31mValueError\u001b[0m: invalid literal for int() with base 10: ''"
     ]
    }
   ],
   "source": [
    "##블랙잭\n",
    "\n",
    "N,M=map(int,input().split(' '))\n",
    "card_list=list(map(int,input().split(' ')))\n",
    "answer=0\n",
    "\n",
    "for first in range(0,N,1):\n",
    "    for second in range(first+1,N):\n",
    "        for third in range(second+1,N):\n",
    "            s=card_list[first]+card_list[second]+card_list[third] ##s를 담는다.\n",
    "            if (s<=M) and (answer<s): #M이 s보다 크고 answer보다 s이 더 크다면 \n",
    "                answer=s    #둘다 같아야 한다.\n",
    "print(answer)"
   ]
  },
  {
   "cell_type": "code",
   "execution_count": null,
   "metadata": {},
   "outputs": [],
   "source": [
    "#날짜 계산\n",
    "e,s,m=map(int,input().split(' '))\n",
    "\n",
    "E,S,M year=0,0,0,0\n",
    "\n",
    "while True:\n",
    "\n",
    "    E,S,M year=E+1,S+1,M+1,year+1\n",
    "\n",
    "    if 15<E:\n",
    "        E=1\n",
    "    if 28<S:\n",
    "        S=1\n",
    "    if 19<M:\n",
    "        M=1\n",
    "\n",
    "\n",
    "    if(e==E) and (s==S) and (m==M):\n",
    "        break\n",
    "print(year)\n"
   ]
  },
  {
   "cell_type": "code",
   "execution_count": 11,
   "metadata": {},
   "outputs": [
    {
     "ename": "SyntaxError",
     "evalue": "invalid syntax. Perhaps you forgot a comma? (3379079464.py, line 3)",
     "output_type": "error",
     "traceback": [
      "\u001b[1;36m  Cell \u001b[1;32mIn[11], line 3\u001b[1;36m\u001b[0m\n\u001b[1;33m    paper=[[0 fir _in range(100)] for _in range(100)] #2차원 배열 만들기\u001b[0m\n\u001b[1;37m            ^\u001b[0m\n\u001b[1;31mSyntaxError\u001b[0m\u001b[1;31m:\u001b[0m invalid syntax. Perhaps you forgot a comma?\n"
     ]
    }
   ],
   "source": [
    "#색종이\n",
    "\n",
    "paper=[[0 fir _in range(100)] for _in range(100)] #2차원 배열 만들기\n",
    "\n",
    "color_paper_num=int(input())\n",
    "\n",
    "for i in range(color_paper_num):\n",
    "    left, botoom=map(int,input().split())\n",
    "    for y in range(bottom, bottom+10):\n",
    "        for x in range(left, left+10):\n",
    "            paper[y][x]=1\n",
    "\n",
    "total=0\n",
    "for i in range(100):\n",
    "    total+=paper[i].count(1)\n",
    "print(total)    \n",
    "\n",
    "\n",
    "\n"
   ]
  },
  {
   "cell_type": "code",
   "execution_count": null,
   "metadata": {},
   "outputs": [],
   "source": [
    "n=int(input())\n",
    "\n",
    "number=int(input())\n",
    "\n",
    "direction=[[1,0],[0,1], [-1,0],[0,-1]]\n",
    "\n",
    "snail=[[0 for _in range(n)] for _in range(n)]\n",
    "\n",
    "start=n*n\n",
    "\n",
    "curr_y=0\n",
    "curr_x=0\n",
    "\n",
    "curr_dir=0\n",
    "soluction=list()\n",
    "\n",
    "for _in range(n*n):\n",
    "    snail[curr_y]"
   ]
  },
  {
   "cell_type": "code",
   "execution_count": null,
   "metadata": {},
   "outputs": [],
   "source": [
    "##1913\n",
    "##홀수인 자연수 N이 주어지면, 다음과 같이 1부터 N2까지의 자연수를 달팽이 모양으로 N×N의 표에 채울 수 있다.\n",
    "\n",
    "n = int(input())\n",
    "find_value = int(input())\n",
    "find_x = 0\n",
    "find_y = 0\n",
    "snail_map = [[0 for _ in range(n)] for _ in range(n)]\n",
    "d = 0\n",
    "dx = [0,1,0,-1]\n",
    "dy = [-1,0,1,0]\n",
    "v = 1\n",
    "x = 0\n",
    "y = 0\n",
    "bias = n // 2\n",
    "while v <= n * n:\n",
    "    snail_map[y + bias][x + bias] = v\n",
    "    if v == find_value:\n",
    "        find_x = x + bias + 1\n",
    "        find_y = y + bias + 1\n",
    "    if x - y == 1 and x <= 0:\n",
    "        d = (d + 1) % 4\n",
    "    elif abs(x) == abs(y):\n",
    "        if 0 < x or 0 < y:\n",
    "            d = (d + 1) % 4\n",
    "    x = x + dx[d]\n",
    "    y = y + dy[d]\n",
    "    v += 1\n",
    "for i in range(n):\n",
    "    for j in range(n):\n",
    "        print(snail_map[i][j], end=' ')\n",
    "    print()\n",
    "print(find_y, find_x)"
   ]
  }
 ],
 "metadata": {
  "kernelspec": {
   "display_name": "Python 3",
   "language": "python",
   "name": "python3"
  },
  "language_info": {
   "codemirror_mode": {
    "name": "ipython",
    "version": 3
   },
   "file_extension": ".py",
   "mimetype": "text/x-python",
   "name": "python",
   "nbconvert_exporter": "python",
   "pygments_lexer": "ipython3",
   "version": "3.10.9"
  },
  "orig_nbformat": 4
 },
 "nbformat": 4,
 "nbformat_minor": 2
}
