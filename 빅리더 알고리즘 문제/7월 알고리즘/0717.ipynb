{
 "cells": [
  {
   "cell_type": "code",
   "execution_count": null,
   "metadata": {},
   "outputs": [],
   "source": [
    "##2751번\n",
    "\n",
    "##N개의 수가 주어졌을 때, 이를 오름차순으로 정렬하는 프로그램을 작성하시오.\n",
    "\n",
    "##첫째 줄에 수의 개수 N(1 ≤ N ≤ 1,000,000)이 주어진다. 둘째 줄부터 N개의 줄에는 수가 주어진다. 이 수는 절댓값이 1,000,000보다 작거나 같은 정수이다. 수는 중복되지 않는다.\n",
    "\n",
    "\n",
    "## 합병정렬(nlogn)\n",
    "import sys\n",
    "input=sys.stdin.readline\n",
    "\n",
    "n=int(input())\n",
    "li=[]\n",
    "\n",
    "for i in range(n):\n",
    "    li.append(int(input()))\n",
    "\n",
    "def sort(arr):\n",
    "    if len(arr)<2:\n",
    "        return arr\n",
    "    \n",
    "    mid=len(arr)//2\n",
    "    left=sort(arr[:mid])\n",
    "    right=sort(arr[mid:])\n",
    "\n",
    "    return merge(left,right)\n",
    "    \n",
    "def merge(left,right):\n",
    "    new_list=[]\n",
    "    i=0\n",
    "    j=0\n",
    "    \n",
    "    while (i<len(left)) & (j<len(right)):\n",
    "        if left[i]>right[j]:\n",
    "            new_list.append(right[j])\n",
    "            j+=1\n",
    "        else:ㄴ\n",
    "            new_list.append(left[i])\n",
    "            i+=1\n",
    "    while (j<len(right)):\n",
    "            new_list.append(right[j])\n",
    "            j+=1\n",
    "    while (i<len(left)):\n",
    "            new_list.append(left[i])\n",
    "            i+=1\n",
    "    return new_list\n",
    "    \n",
    "for i in sort(li):\n",
    "    print(i)\n"
   ]
  }
 ],
 "metadata": {
  "language_info": {
   "name": "python"
  },
  "orig_nbformat": 4
 },
 "nbformat": 4,
 "nbformat_minor": 2
}
