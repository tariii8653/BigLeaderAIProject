{
 "cells": [
  {
   "cell_type": "code",
   "execution_count": null,
   "metadata": {},
   "outputs": [],
   "source": [
    "##2562번\n",
    "##9개의 서로 다른 자연수가 주어질 때, 이들 중 최댓값을 찾고 그 최댓값이 몇 번째 수인지를 구하는 프로그램을 작성하시오.\n",
    "#예를 들어, 서로 다른 9개의 자연수\n",
    "\n",
    "#3, 29, 38, 12, 57, 74, 40, 85, 61\n",
    "\n",
    "#이 주어지면, 이들 중 최댓값은 85이고, 이 값은 8번째 수이다.\n",
    "\n",
    "#첫째 줄부터 아홉 번째 줄까지 한 줄에 하나의 자연수가 주어진다. 주어지는 자연수는 100 보다 작다\n",
    "\n",
    "Nums= []\n",
    "for _ in range(9) :\n",
    "    e=int(input())\n",
    "    Nums.append(e)\n",
    "print(max(Nums))\n",
    "print(Nums.index(max(Nums))+1)    "
   ]
  },
  {
   "cell_type": "code",
   "execution_count": null,
   "metadata": {},
   "outputs": [],
   "source": []
  }
 ],
 "metadata": {
  "language_info": {
   "name": "python"
  },
  "orig_nbformat": 4
 },
 "nbformat": 4,
 "nbformat_minor": 2
}
