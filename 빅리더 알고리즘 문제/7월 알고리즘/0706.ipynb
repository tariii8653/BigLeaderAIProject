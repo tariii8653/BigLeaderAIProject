{
 "cells": [
  {
   "cell_type": "code",
   "execution_count": null,
   "metadata": {},
   "outputs": [],
   "source": [
    "##10950문제\n",
    "##첫째 줄에 테스트 케이스의 개수 T가 주어진다.\n",
    "    ## 각 테스트 케이스는 한 줄로 이루어져 있으며 각 줄에 A와 B가 주어진다. (0 < A, B < 10)\n",
    "\n",
    "n=int(input())\n",
    "lst=[]\n",
    "for i in range(n):\n",
    "    a,b=map(int,input().split())\n",
    "    lst.append(a+b)\n",
    "for i in range(n):\n",
    "   print(lst[i])\n"
   ]
  }
 ],
 "metadata": {
  "language_info": {
   "name": "python"
  },
  "orig_nbformat": 4
 },
 "nbformat": 4,
 "nbformat_minor": 2
}
