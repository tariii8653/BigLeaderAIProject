{
 "cells": [
  {
   "cell_type": "code",
   "execution_count": 1,
   "metadata": {},
   "outputs": [
    {
     "ename": "ValueError",
     "evalue": "invalid literal for int() with base 10: '1,1'",
     "output_type": "error",
     "traceback": [
      "\u001b[1;31m---------------------------------------------------------------------------\u001b[0m",
      "\u001b[1;31mValueError\u001b[0m                                Traceback (most recent call last)",
      "Cell \u001b[1;32mIn[1], line 14\u001b[0m\n\u001b[0;32m      1\u001b[0m \u001b[39m##2798\u001b[39;00m\n\u001b[0;32m      2\u001b[0m \u001b[39m## 카지노에서 제일 인기 있는 게임 블랙잭의 규칙은 상당히 쉽다. 카드의 합이 21을 넘지 않는 한도 내에서, \u001b[39;00m\n\u001b[0;32m      3\u001b[0m \u001b[39m# 카드의 합을 최대한 크게 만드는 게임이다. 블랙잭은 카지노마다 다양한 규정이 있다.\u001b[39;00m\n\u001b[1;32m   (...)\u001b[0m\n\u001b[0;32m     10\u001b[0m \u001b[39m##첫째 줄에 카드의 개수 N(3 ≤ N ≤ 100)과 M(10 ≤ M ≤ 300,000)이 주어진다. 둘째 줄에는 카드에 쓰여 있는 수가 주어지며, \u001b[39;00m\n\u001b[0;32m     11\u001b[0m \u001b[39m# 이 값은 100,000을 넘지 않는 양의 정수이다. 합이 M을 넘지 않는 카드 3장을 찾을 수 있는 경우만 입력으로 주어진다.\u001b[39;00m\n\u001b[1;32m---> 14\u001b[0m N, M\u001b[39m=\u001b[39m\u001b[39mmap\u001b[39m(\u001b[39mint\u001b[39m,\u001b[39minput\u001b[39m()\u001b[39m.\u001b[39msplit())\n\u001b[0;32m     15\u001b[0m Card\u001b[39m=\u001b[39m\u001b[39mlist\u001b[39m(\u001b[39mmap\u001b[39m(\u001b[39mint\u001b[39m,\u001b[39minput\u001b[39m()\u001b[39m.\u001b[39m split()))\n\u001b[0;32m     17\u001b[0m A\u001b[39m=\u001b[39m[]\n",
      "\u001b[1;31mValueError\u001b[0m: invalid literal for int() with base 10: '1,1'"
     ]
    }
   ],
   "source": [
    "##2798\n",
    "## 카지노에서 제일 인기 있는 게임 블랙잭의 규칙은 상당히 쉽다. 카드의 합이 21을 넘지 않는 한도 내에서, \n",
    "# 카드의 합을 최대한 크게 만드는 게임이다. 블랙잭은 카지노마다 다양한 규정이 있다.\n",
    "##한국 최고의 블랙잭 고수 김정인은 새로운 블랙잭 규칙을 만들어 상근, 창영이와 게임하려고 한다.\n",
    "##김정인 버전의 블랙잭에서 각 카드에는 양의 정수가 쓰여 있다. 그 다음, 딜러는 N장의 카드를 모두 숫자가 보이도록 바닥에 놓는다. \n",
    "# 그런 후에 딜러는 숫자 M을 크게 외친다.이제 플레이어는 제한된 시간 안에 N장의 카드 중에서 3장의 카드를 골라야 한다. \n",
    "# 블랙잭 변형 게임이기 때문에, 플레이어가 고른 카드의 합은 M을 넘지 않으면서 M과 최대한 가깝게 만들어야 한다.\n",
    "#N장의 카드에 써져 있는 숫자가 주어졌을 때, M을 넘지 않으면서 M에 최대한 가까운 카드 3장의 합을 구해 출력하시오.\n",
    "\n",
    "##첫째 줄에 카드의 개수 N(3 ≤ N ≤ 100)과 M(10 ≤ M ≤ 300,000)이 주어진다. 둘째 줄에는 카드에 쓰여 있는 수가 주어지며, \n",
    "# 이 값은 100,000을 넘지 않는 양의 정수이다. 합이 M을 넘지 않는 카드 3장을 찾을 수 있는 경우만 입력으로 주어진다.\n",
    "\n",
    "\n",
    "N,M=map(int,input().split())\n",
    "A=list(map(int,input().split()))\n",
    "Talk=0\n",
    "\n",
    "for i in range(N):\n",
    "    for j in range(i+1,N):\n",
    "        for k in range(j+1,N):\n",
    "            Sum=A[i]+A[j]+A[k]\n",
    "            if Sum<=M:\n",
    "                Talk=max(Talk,Sum)\n",
    "print(Talk)                "
   ]
  },
  {
   "cell_type": "code",
   "execution_count": null,
   "metadata": {},
   "outputs": [],
   "source": [
    "##2309\n",
    "##왕비를 피해 일곱 난쟁이들과 함께 평화롭게 생활하고 있던 백설공주에게 위기가 찾아왔다. \n",
    "# 일과를 마치고 돌아온 난쟁이가 일곱 명이 아닌 아홉 명이었던 것이다.\n",
    "# 아홉 명의 난쟁이는 모두 자신이 \"백설 공주와 일곱 난쟁이\"의 주인공이라고 주장했다. \n",
    "# 뛰어난 수학적 직관력을 가지고 있던 백설공주는, 다행스럽게도 일곱 난쟁이의 키의 합이 100이 됨을 기억해 냈다.\n",
    "# 아홉 난쟁이의 키가 주어졌을 때, 백설공주를 도와 일곱 난쟁이를 찾는 프로그램을 작성하시오.\n",
    "\n",
    "##아홉 개의 줄에 걸쳐 난쟁이들의 키가 주어진다. 주어지는 키는 100을 넘지 않는 자연수이며, 아홉 난쟁이의 키는 모두 다르며, \n",
    "# 가능한 정답이 여러 가지인 경우에는 아무거나 출력한다\n",
    "\n",
    "# 9명 중에 7명을 찾는게 아니라 9명 중 2명을 찾는 것\n",
    "height_list = []\n",
    "height_sum = 0\n",
    "for i in range(9):\n",
    "    height = int(input())\n",
    "    height_list.append(height)\n",
    "    height_sum += height\n",
    "height_list.sort()\n",
    "\n",
    "is_ok = False\n",
    "for first in range(9):\n",
    "    for second in range(9):\n",
    "        if first == second:\n",
    "            continue\n",
    "        if (height_sum-height_list[first]-height_list[second]) == 100:\n",
    "            height_list.remove(height_list[second])\n",
    "            height_list.remove(height_list[first])\n",
    "            is_ok = True\n",
    "        if is_ok:\n",
    "            break\n",
    "    if is_ok:\n",
    "        break\n",
    "\n",
    "for i in height_list:\n",
    "    print(i)"
   ]
  },
  {
   "cell_type": "code",
   "execution_count": null,
   "metadata": {},
   "outputs": [],
   "source": [
    "##1436\n",
    "##666은 종말을 나타내는 수라고 한다. 따라서, 많은 블록버스터 영화에서는 666이 들어간 제목을 많이 사용한다. \n",
    "# 영화감독 숌은 세상의 종말 이라는 시리즈 영화의 감독이다. 조지 루카스는 스타워즈를 만들 때, 스타워즈 1, 스타워즈 2, 스타워즈 3, 스타워즈 4, 스타워즈 5, 스타워즈 6과 같이 이름을 지었고,\n",
    "#  피터 잭슨은 반지의 제왕을 만들 때, 반지의 제왕 1, 반지의 제왕 2, 반지의 제왕 3과 같이 영화 제목을 지었다. 하지만 숌은 자신이 조지 루카스와 피터 잭슨을 뛰어넘는다는 것을 보여주기 위해서 \n",
    "# 영화 제목을 좀 다르게 만들기로 했다.종말의 수란 어떤 수에 6이 적어도 3개 이상 연속으로 들어가는 수를 말한다. \n",
    "# 제일 작은 종말의 수는 666이고, 그 다음으로 큰 수는 1666, 2666, 3666, .... 이다. \n",
    "# 따라서, 숌은 첫 번째 영화의 제목은 \"세상의 종말 666\", 두 번째 영화의 제목은 \"세상의 종말 1666\"와 같이 이름을 지을 것이다. 일반화해서 생각하면, \n",
    "# N번째 영화의 제목은 세상의 종말 (N번째로 작은 종말의 수) 와 같다.\n",
    "# 숌이 만든 N번째 영화의 제목에 들어간 수를 출력하는 프로그램을 작성하시오. 숌은 이 시리즈를 항상 차례대로 만들고, 다른 영화는 만들지 않는다.\n",
    "\n",
    "##첫째 줄에 N이 주어진다. N은 10,000보다 작거나 같은 자연수이다\n",
    "\n",
    "N=int(input())\n",
    "lst=[]\n",
    "Start=666\n",
    "\n",
    "while len(lst) !=N:\n",
    "    if '666' in str(Start):\n",
    "        lst.append(Start)\n",
    "    Start+=1\n",
    "print(lst[-1])        "
   ]
  }
 ],
 "metadata": {
  "kernelspec": {
   "display_name": "Python 3",
   "language": "python",
   "name": "python3"
  },
  "language_info": {
   "codemirror_mode": {
    "name": "ipython",
    "version": 3
   },
   "file_extension": ".py",
   "mimetype": "text/x-python",
   "name": "python",
   "nbconvert_exporter": "python",
   "pygments_lexer": "ipython3",
   "version": "3.10.9"
  },
  "orig_nbformat": 4
 },
 "nbformat": 4,
 "nbformat_minor": 2
}
