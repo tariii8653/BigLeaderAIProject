{
 "cells": [
  {
   "cell_type": "code",
   "execution_count": 1,
   "metadata": {},
   "outputs": [
    {
     "ename": "ValueError",
     "evalue": "invalid literal for int() with base 10: '1 1'",
     "output_type": "error",
     "traceback": [
      "\u001b[1;31m---------------------------------------------------------------------------\u001b[0m",
      "\u001b[1;31mValueError\u001b[0m                                Traceback (most recent call last)",
      "Cell \u001b[1;32mIn[1], line 7\u001b[0m\n\u001b[0;32m      1\u001b[0m \u001b[39m##10950문제\u001b[39;00m\n\u001b[0;32m      2\u001b[0m \u001b[39m##두 정수 A와 B를 입력받은 다음, A+B를 출력하는 프로그램을 작성하시오\u001b[39;00m\n\u001b[0;32m      3\u001b[0m \u001b[39m##입력은 여러 개의 테스트 케이스로 이루어져 있다.\u001b[39;00m\n\u001b[0;32m      4\u001b[0m \n\u001b[0;32m      5\u001b[0m \u001b[39m##각 테스트 케이스는 한 줄로 이루어져 있으며, 각 줄에 A와 B가 주어진다. (0 < A, B < 10)\u001b[39;00m\n\u001b[1;32m----> 7\u001b[0m n\u001b[39m=\u001b[39m\u001b[39mint\u001b[39;49m(\u001b[39minput\u001b[39;49m())\n\u001b[0;32m      8\u001b[0m lst\u001b[39m=\u001b[39m[]\n\u001b[0;32m      9\u001b[0m \u001b[39mfor\u001b[39;00m i \u001b[39min\u001b[39;00m \u001b[39mrange\u001b[39m(n):\n",
      "\u001b[1;31mValueError\u001b[0m: invalid literal for int() with base 10: '1 1'"
     ]
    }
   ],
   "source": [
    "##10950문제\n",
    "##두 정수 A와 B를 입력받은 다음, A+B를 출력하는 프로그램을 작성하시오\n",
    "##입력은 여러 개의 테스트 케이스로 이루어져 있다.\n",
    "\n",
    "##각 테스트 케이스는 한 줄로 이루어져 있으며, 각 줄에 A와 B가 주어진다. (0 < A, B < 10)\n",
    "\n",
    "while True:\n",
    "    try:\n",
    "        A,B=map(int,input().split())\n",
    "        print(A+B)\n",
    "    except: \n",
    "        break\n"
   ]
  }
 ],
 "metadata": {
  "kernelspec": {
   "display_name": "Python 3",
   "language": "python",
   "name": "python3"
  },
  "language_info": {
   "codemirror_mode": {
    "name": "ipython",
    "version": 3
   },
   "file_extension": ".py",
   "mimetype": "text/x-python",
   "name": "python",
   "nbconvert_exporter": "python",
   "pygments_lexer": "ipython3",
   "version": "3.10.9"
  },
  "orig_nbformat": 4
 },
 "nbformat": 4,
 "nbformat_minor": 2
}
