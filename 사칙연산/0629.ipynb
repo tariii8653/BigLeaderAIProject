{
 "cells": [
  {
   "cell_type": "code",
   "execution_count": null,
   "id": "127d22ea",
   "metadata": {},
   "outputs": [],
   "source": [
    "##2588번\n",
    "##(세 자리 수) × (세 자리 수)는 다음과 같은 과정을 통하여 이루어진다.\n",
    "(1)과 (2)위치에 들어갈 세 자리 자연수가 주어질 때 (3), (4), (5), (6)위치에 들어갈 값을 구하는 프로그램을 작성하시오.\n",
    "\n",
    "A=int(input())\n",
    "B=input()\n",
    "print(A*int(B[2]))\n",
    "print(A*int(B[1]))\n",
    "print(A*int(B[0]))\n",
    "print(A*int(B))"
   ]
  },
  {
   "cell_type": "code",
   "execution_count": null,
   "id": "08b12084",
   "metadata": {},
   "outputs": [],
   "source": [
    "##11382\n",
    "##꼬마 정민이는 이제 A+B정도는 쉽게 계산할 수 있다. 이제는 A+B+C를 계산할 차례이다.\n",
    "\n",
    "A,B,C=map(int,input().split())\n",
    "print(A+B+C)\n"
   ]
  }
 ],
 "metadata": {
  "kernelspec": {
   "display_name": "Python 3 (ipykernel)",
   "language": "python",
   "name": "python3"
  },
  "language_info": {
   "codemirror_mode": {
    "name": "ipython",
    "version": 3
   },
   "file_extension": ".py",
   "mimetype": "text/x-python",
   "name": "python",
   "nbconvert_exporter": "python",
   "pygments_lexer": "ipython3",
   "version": "3.10.9"
  }
 },
 "nbformat": 4,
 "nbformat_minor": 5
}
