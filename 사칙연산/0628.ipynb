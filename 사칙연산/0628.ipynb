{
 "cells": [
  {
   "cell_type": "code",
   "execution_count": null,
   "id": "d9762956",
   "metadata": {},
   "outputs": [],
   "source": [
    "##10998번 문제 \n",
    "##두 정수 A와 B를 입력받은 다음, A×B를 출력하는 프로그램을 작성하시오.\n",
    "\n",
    "A,B=map(int,input().split())\n",
    "print(int(A)*int(B))"
   ]
  },
  {
   "cell_type": "code",
   "execution_count": null,
   "id": "9cc02d95",
   "metadata": {},
   "outputs": [],
   "source": [
    "##1008번 문제\n",
    "##두 정수 A와 B를 입력받은 다음, A/B를 출력하는 프로그램을 작성하시오.\n",
    "\n",
    "A,B=map(int,input().split())\n",
    "print(int(A)/int(B))"
   ]
  },
  {
   "cell_type": "code",
   "execution_count": null,
   "id": "0cb5b139",
   "metadata": {},
   "outputs": [],
   "source": [
    "##10430번\n",
    "##(A+B)%C는 ((A%C) + (B%C))%C 와 같을까?\n",
    "\n",
    "(A×B)%C는 ((A%C) × (B%C))%C 와 같을까?\n",
    "\n",
    "세 수 A, B, C가 주어졌을 때, 위의 네 가지 값을 구하는 프로그램을 작성하시오\n",
    "\n",
    "A,B,C=map(int,input().split())\n",
    "print ((A+B)%C)\n",
    "print(((A%C)+(B%C))%C)\n",
    "print((A*B)%C)\n",
    "print(((A%C)*(B%C))%C)\n"
   ]
  },
  {
   "cell_type": "code",
   "execution_count": null,
   "id": "42d12eda",
   "metadata": {},
   "outputs": [],
   "source": [
    "##10869번\n",
    "##두 자연수 A와 B가 주어진다. 이때, A+B, A-B, A*B, A/B(몫), A%B(나머지)를 출력하는 프로그램을 작성하시오. \n",
    "\n",
    "A,B=map(int,input().split())\n",
    "print(A+B)\n",
    "print(A-B)\n",
    "print(A*B)\n",
    "print(A//B)\n",
    "print(A%B)\n"
   ]
  },
  {
   "cell_type": "code",
   "execution_count": null,
   "id": "4a095e43",
   "metadata": {},
   "outputs": [],
   "source": [
    "##18108번\n",
    "##ICPC Bangkok Regional에 참가하기 위해 수완나품 국제공항에 막 도착한 팀 레드시프트 일행은 눈을 믿을 수 없었다. 공항의 대형 스크린에 올해가 2562년이라고 적혀 있던 것이었다.\n",
    "\n",
    "불교 국가인 태국은 불멸기원(佛滅紀元), 즉 석가모니가 열반한 해를 기준으로 연도를 세는 불기를 사용한다. 반면, 우리나라는 서기 연도를 사용하고 있다. 불기 연도가 주어질 때 이를 서기 연도로 바꿔 주는 프로그램을 작성하시오.\n",
    "\n",
    "N=int(input())\n",
    "print(N-543)"
   ]
  }
 ],
 "metadata": {
  "kernelspec": {
   "display_name": "Python 3 (ipykernel)",
   "language": "python",
   "name": "python3"
  },
  "language_info": {
   "codemirror_mode": {
    "name": "ipython",
    "version": 3
   },
   "file_extension": ".py",
   "mimetype": "text/x-python",
   "name": "python",
   "nbconvert_exporter": "python",
   "pygments_lexer": "ipython3",
   "version": "3.10.9"
  }
 },
 "nbformat": 4,
 "nbformat_minor": 5
}
