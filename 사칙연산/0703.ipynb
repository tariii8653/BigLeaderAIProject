{
 "cells": [
  {
   "cell_type": "code",
   "execution_count": null,
   "metadata": {},
   "outputs": [],
   "source": [
    "## N개의 정수가 주어진다. 이때, 최솟값과 최댓값을 구하는 프로그램을 작성하시오\n",
    "cnt=int(input())  ##정수의 개수를 입력\n",
    "numbers= list(map(int,input().split())) ## 정수를 입력한다.\n",
    "max = numbers[0]\n",
    "min = numbers[0]\n",
    "\n",
    "for i in numbers [1:] :\n",
    "    if i>max :\n",
    "        max= i\n",
    "    elif i <min:\n",
    "        min = i\n",
    "print(min,max)"
   ]
  },
  {
   "cell_type": "code",
   "execution_count": null,
   "metadata": {},
   "outputs": [],
   "source": []
  }
 ],
 "metadata": {
  "language_info": {
   "name": "python"
  },
  "orig_nbformat": 4
 },
 "nbformat": 4,
 "nbformat_minor": 2
}
