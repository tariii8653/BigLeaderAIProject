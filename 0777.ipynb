{
 "cells": [
  {
   "cell_type": "code",
   "execution_count": null,
   "metadata": {},
   "outputs": [],
   "source": [
    "## 25304번 \n",
    "##준원이는 저번 주에 살면서 처음으로 코스트코를 가 봤다. 정말 멋졌다. 그런데, 몇 개 담지도 않았는데 수상하게 높은 금액이 나오는 것이다! 준원이는 영수증을 보면서 정확하게 계산된 것이 맞는지 확인해보려 한다.\n",
    "\n",
    "#영수증에 적힌,\n",
    "\n",
    "#구매한 각 물건의 가격과 개수\n",
    "#구매한 물건들의 총 금액을 보고, \n",
    "# 구매한 물건의 가격과 개수로 계산한 총 금액이 영수증에 적힌 총 금액과 일치하는지 검사해보자.\n",
    "\n",
    "X = int(input())\n",
    "Y = int(input())\n",
    "\n",
    "result = 0\n",
    "\n",
    "for i in range(Y):\n",
    "    A, B = map(int, input().split())\n",
    "    result += A * B\n",
    "\n",
    "if result == X:\n",
    "    print(\"Yes\")\n",
    "else:\n",
    "    print(\"No\")"
   ]
  }
 ],
 "metadata": {
  "language_info": {
   "name": "python"
  },
  "orig_nbformat": 4
 },
 "nbformat": 4,
 "nbformat_minor": 2
}
