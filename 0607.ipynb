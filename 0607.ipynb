{
 "cells": [
  {
   "cell_type": "code",
   "execution_count": null,
   "id": "86c1e97c",
   "metadata": {},
   "outputs": [],
   "source": [
    "##백준 1000번 문제 \n",
    "## 두 정수 A와 B를 입력받은 다음, A+B를 출력하는 프로그램을 작성하시오.\n",
    "A,B=input().split()\n",
    "print(int(A)+int(B))"
   ]
  },
  {
   "cell_type": "code",
   "execution_count": null,
   "id": "6343d0f7",
   "metadata": {},
   "outputs": [],
   "source": [
    "##백준 1001번 문제 \n",
    "## 두 정수 A와 B를 입력 받은 다음, A-B를 출력하는 프로그램을 작성하시오\n",
    "print(int(B)-int(A))"
   ]
  }
 ],
 "metadata": {
  "kernelspec": {
   "display_name": "Python 3 (ipykernel)",
   "language": "python",
   "name": "python3"
  },
  "language_info": {
   "codemirror_mode": {
    "name": "ipython",
    "version": 3
   },
   "file_extension": ".py",
   "mimetype": "text/x-python",
   "name": "python",
   "nbconvert_exporter": "python",
   "pygments_lexer": "ipython3",
   "version": "3.10.9"
  }
 },
 "nbformat": 4,
 "nbformat_minor": 5
}
