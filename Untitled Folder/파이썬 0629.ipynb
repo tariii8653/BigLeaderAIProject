{
 "cells": [
  {
   "cell_type": "code",
   "execution_count": 10,
   "id": "e9387c6b",
   "metadata": {},
   "outputs": [
    {
     "name": "stdout",
     "output_type": "stream",
     "text": [
      "연탄이는4살 이고,산책을 아주 좋아합니다.\n"
     ]
    }
   ],
   "source": [
    "name='연탄이'\n",
    "animal='개'\n",
    "age=4\n",
    "hobby='산책'\n",
    "print(name+\"는\"+str(age)+\"살 이고,\"+hobby+\"을 아주 좋아합니다.\")"
   ]
  },
  {
   "cell_type": "code",
   "execution_count": 11,
   "id": "822b2d7a",
   "metadata": {},
   "outputs": [
    {
     "name": "stdout",
     "output_type": "stream",
     "text": [
      "3입니다\n"
     ]
    }
   ],
   "source": [
    "print(str(3)+'입니다')"
   ]
  },
  {
   "cell_type": "code",
   "execution_count": 12,
   "id": "f5ddb6de",
   "metadata": {},
   "outputs": [
    {
     "name": "stdout",
     "output_type": "stream",
     "text": [
      "사당행 열차가 들어오고 있습니다\n"
     ]
    }
   ],
   "source": [
    "station='사당'\n",
    "print(station+'행 열차가 들어오고 있습니다')"
   ]
  },
  {
   "cell_type": "code",
   "execution_count": 13,
   "id": "be53b65f",
   "metadata": {},
   "outputs": [
    {
     "name": "stdout",
     "output_type": "stream",
     "text": [
      "신도림행이 들어오고 있습니다\n"
     ]
    }
   ],
   "source": [
    "station='신도림'\n",
    "print(station+'행이 들어오고 있습니다')"
   ]
  },
  {
   "cell_type": "code",
   "execution_count": 14,
   "id": "d296f7c7",
   "metadata": {},
   "outputs": [
    {
     "name": "stdout",
     "output_type": "stream",
     "text": [
      "인천공항행이 들어오고 있습니다\n"
     ]
    }
   ],
   "source": [
    "station='인천공항'\n",
    "print(station+'행이 들어오고 있습니다')"
   ]
  },
  {
   "cell_type": "code",
   "execution_count": 19,
   "id": "e37a0112",
   "metadata": {},
   "outputs": [
    {
     "name": "stdout",
     "output_type": "stream",
     "text": [
      "주문상태: 상품 준비\n"
     ]
    }
   ],
   "source": [
    "status='상품 준비'\n",
    "print('주문상태: '+status)"
   ]
  },
  {
   "cell_type": "code",
   "execution_count": 20,
   "id": "555b95c3",
   "metadata": {},
   "outputs": [
    {
     "name": "stdout",
     "output_type": "stream",
     "text": [
      "주문상태: 배송 중\n"
     ]
    }
   ],
   "source": [
    "status='배송 중'\n",
    "print('주문상태: ' +status)"
   ]
  },
  {
   "cell_type": "code",
   "execution_count": 21,
   "id": "c6757737",
   "metadata": {},
   "outputs": [
    {
     "name": "stdout",
     "output_type": "stream",
     "text": [
      "주문 상태 : 배송 완료\n"
     ]
    }
   ],
   "source": [
    "status='배송 완료'\n",
    "print('주문 상태 : '+ status)"
   ]
  },
  {
   "cell_type": "code",
   "execution_count": 23,
   "id": "ec8ed52e",
   "metadata": {},
   "outputs": [
    {
     "name": "stdout",
     "output_type": "stream",
     "text": [
      "False\n"
     ]
    }
   ],
   "source": [
    "print((3>0) and (3>5))"
   ]
  },
  {
   "cell_type": "code",
   "execution_count": 24,
   "id": "1647efd7",
   "metadata": {},
   "outputs": [
    {
     "name": "stdout",
     "output_type": "stream",
     "text": [
      "9\n"
     ]
    }
   ],
   "source": [
    "number=2+3+4\n",
    "print(number)"
   ]
  },
  {
   "cell_type": "code",
   "execution_count": 26,
   "id": "598d9ac4",
   "metadata": {},
   "outputs": [
    {
     "name": "stdout",
     "output_type": "stream",
     "text": [
      "8\n",
      "16\n"
     ]
    }
   ],
   "source": [
    "number=2*3+2\n",
    "print(number)\n",
    "number=number+2*4\n",
    "print(number)"
   ]
  },
  {
   "cell_type": "code",
   "execution_count": 29,
   "id": "62b51862",
   "metadata": {},
   "outputs": [],
   "source": [
    "from random import *"
   ]
  },
  {
   "cell_type": "code",
   "execution_count": 30,
   "id": "187214d3",
   "metadata": {},
   "outputs": [
    {
     "name": "stdout",
     "output_type": "stream",
     "text": [
      "0.6072972945019576\n"
     ]
    }
   ],
   "source": [
    "print(random())"
   ]
  },
  {
   "cell_type": "code",
   "execution_count": 34,
   "id": "fa7882dc",
   "metadata": {},
   "outputs": [
    {
     "name": "stdout",
     "output_type": "stream",
     "text": [
      "0.14\n"
     ]
    }
   ],
   "source": [
    "print(round(0.1357,2))"
   ]
  },
  {
   "cell_type": "code",
   "execution_count": 35,
   "id": "d5aa57c4",
   "metadata": {},
   "outputs": [],
   "source": [
    "from random import *"
   ]
  },
  {
   "cell_type": "code",
   "execution_count": 42,
   "id": "769f246e",
   "metadata": {},
   "outputs": [
    {
     "name": "stdout",
     "output_type": "stream",
     "text": [
      "섭씨 온도:10\n",
      "화씨 온도: 50.0\n"
     ]
    }
   ],
   "source": [
    "cel=10\n",
    "fel=(cel*9/5)+32\n",
    "print('섭씨 온도:'+ str(cel ))\n",
    "print('화씨 온도: '+str(fel) )\n"
   ]
  },
  {
   "cell_type": "code",
   "execution_count": 46,
   "id": "1e80ae2a",
   "metadata": {},
   "outputs": [
    {
     "name": "stdout",
     "output_type": "stream",
     "text": [
      "성별 식별 번호: -\n",
      "연: 96\n"
     ]
    }
   ],
   "source": [
    "jumin=\"960530-2019874\"\n",
    "print('성별 식별 번호: '+ jumin[6])\n",
    "print('연: '+ jumin[0:2]) #0부터 2 직전까지 이므로 0,1번째 이다.."
   ]
  },
  {
   "cell_type": "code",
   "execution_count": 48,
   "id": "fa4557d7",
   "metadata": {},
   "outputs": [
    {
     "name": "stdout",
     "output_type": "stream",
     "text": [
      "i love python\n"
     ]
    }
   ],
   "source": [
    "# lower() : 문자열을 소문자로 변환\n",
    "# upper() : 문지열을 대문자로 변환\n",
    "# islower() : 문지열이 소문자 인지 확인\n",
    "# isupper() : 문지열이 대문자 인지 확인\n",
    "# replace() : 문지열 바꾸기\n",
    "# index() : 찾는 문자열의 인덱스\n",
    "# count() : 문자열이 나온 횟수\n",
    " ;msg='I love Python'\n",
    "print(msg.lower())"
   ]
  },
  {
   "cell_type": "code",
   "execution_count": 53,
   "id": "4afb82e1",
   "metadata": {},
   "outputs": [
    {
     "name": "stdout",
     "output_type": "stream",
     "text": [
      "나는 30살 입니다\n",
      "몽짱 이 보고 싶네\n"
     ]
    }
   ],
   "source": [
    "#문자열 포매팅\n",
    "print('나는 %d살 입니다' %30)\n",
    "print('%s 이 보고 싶네' %'몽짱')"
   ]
  },
  {
   "cell_type": "code",
   "execution_count": null,
   "id": "86c5b99e",
   "metadata": {},
   "outputs": [],
   "source": []
  }
 ],
 "metadata": {
  "kernelspec": {
   "display_name": "Python 3 (ipykernel)",
   "language": "python",
   "name": "python3"
  },
  "language_info": {
   "codemirror_mode": {
    "name": "ipython",
    "version": 3
   },
   "file_extension": ".py",
   "mimetype": "text/x-python",
   "name": "python",
   "nbconvert_exporter": "python",
   "pygments_lexer": "ipython3",
   "version": "3.10.9"
  }
 },
 "nbformat": 4,
 "nbformat_minor": 5
}
