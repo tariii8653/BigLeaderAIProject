{
 "cells": [
  {
   "cell_type": "code",
   "execution_count": 10,
   "id": "6c340c25",
   "metadata": {},
   "outputs": [
    {
     "name": "stdout",
     "output_type": "stream",
     "text": [
      "연탄이는4살 이고,산책을 아주 좋아합니다.\n"
     ]
    }
   ],
   "source": [
    "name='연탄이'\n",
    "animal='개'\n",
    "age=4\n",
    "hobby='산책'\n",
    "print(name+\"는\"+str(age)+\"살 이고,\"+hobby+\"을 아주 좋아합니다.\")"
   ]
  },
  {
   "cell_type": "code",
   "execution_count": 11,
   "id": "ed3caf14",
   "metadata": {},
   "outputs": [
    {
     "name": "stdout",
     "output_type": "stream",
     "text": [
      "3입니다\n"
     ]
    }
   ],
   "source": [
    "print(str(3)+'입니다')"
   ]
  },
  {
   "cell_type": "code",
   "execution_count": 12,
   "id": "46d7067c",
   "metadata": {},
   "outputs": [
    {
     "name": "stdout",
     "output_type": "stream",
     "text": [
      "사당행 열차가 들어오고 있습니다\n"
     ]
    }
   ],
   "source": [
    "station='사당'\n",
    "print(station+'행 열차가 들어오고 있습니다')"
   ]
  },
  {
   "cell_type": "code",
   "execution_count": 13,
   "id": "c32d482a",
   "metadata": {},
   "outputs": [
    {
     "name": "stdout",
     "output_type": "stream",
     "text": [
      "신도림행이 들어오고 있습니다\n"
     ]
    }
   ],
   "source": [
    "station='신도림'\n",
    "print(station+'행이 들어오고 있습니다')"
   ]
  },
  {
   "cell_type": "code",
   "execution_count": 14,
   "id": "3711cacd",
   "metadata": {},
   "outputs": [
    {
     "name": "stdout",
     "output_type": "stream",
     "text": [
      "인천공항행이 들어오고 있습니다\n"
     ]
    }
   ],
   "source": [
    "station='인천공항'\n",
    "print(station+'행이 들어오고 있습니다')"
   ]
  },
  {
   "cell_type": "code",
   "execution_count": null,
   "id": "94a9bd0d",
   "metadata": {},
   "outputs": [],
   "source": []
  }
 ],
 "metadata": {
  "kernelspec": {
   "display_name": "Python 3 (ipykernel)",
   "language": "python",
   "name": "python3"
  },
  "language_info": {
   "codemirror_mode": {
    "name": "ipython",
    "version": 3
   },
   "file_extension": ".py",
   "mimetype": "text/x-python",
   "name": "python",
   "nbconvert_exporter": "python",
   "pygments_lexer": "ipython3",
   "version": "3.10.9"
  }
 },
 "nbformat": 4,
 "nbformat_minor": 5
}
